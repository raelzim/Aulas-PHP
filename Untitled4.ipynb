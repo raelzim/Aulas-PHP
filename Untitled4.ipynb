{
  "nbformat": 4,
  "nbformat_minor": 0,
  "metadata": {
    "colab": {
      "provenance": [],
      "authorship_tag": "ABX9TyONGTJ9DMJW+Y2imAc0evqP",
      "include_colab_link": true
    },
    "kernelspec": {
      "name": "python3",
      "display_name": "Python 3"
    },
    "language_info": {
      "name": "python"
    }
  },
  "cells": [
    {
      "cell_type": "markdown",
      "metadata": {
        "id": "view-in-github",
        "colab_type": "text"
      },
      "source": [
        "<a href=\"https://colab.research.google.com/github/raelzim/Aulas-PHP/blob/main/Untitled4.ipynb\" target=\"_parent\"><img src=\"https://colab.research.google.com/assets/colab-badge.svg\" alt=\"Open In Colab\"/></a>"
      ]
    },
    {
      "cell_type": "code",
      "execution_count": 21,
      "metadata": {
        "id": "kalJYQceIEfn"
      },
      "outputs": [],
      "source": [
        "#1 - Escreva uma função que Recebe uma lista de strings e retorna:\n",
        " ## apenas as palavras que começam com a letra A\n",
        " ## a quantidade de palavras encontradas\n",
        "#2 - Escreva uma função que receba uma lista de números e retorne o produto desses números.\n",
        "#3 - Escreva uma função que receba uma lista  "
      ]
    },
    {
      "cell_type": "code",
      "source": [
        "#1\n",
        "def palavras_comecam_com_a(lista_palavras):\n",
        "    \"\"\"Retorna uma lista contendo somente as palavras que começam com a letra 'a'.\"\"\"\n",
        "    palavras_com_a = []\n",
        "    for palavra in lista_palavras:\n",
        "        if palavra.startswith('a'):\n",
        "            palavras_com_a.append(palavra)\n",
        "    return palavras_com_a\n"
      ],
      "metadata": {
        "id": "OHlOylYdMQ44"
      },
      "execution_count": 37,
      "outputs": []
    },
    {
      "cell_type": "code",
      "source": [
        "palavras = [\"arroz\", \"abacate\", \"maçã\", \"laranja\", \"alface\"]\n",
        "print(palavras_comecam_com_a(palavras))  # Output: ['arroz', 'abacate', 'alface']\n"
      ],
      "metadata": {
        "colab": {
          "base_uri": "https://localhost:8080/"
        },
        "id": "cMVtcfKLQKXo",
        "outputId": "5c2719ae-7257-48e5-8cbb-839a6d813df8"
      },
      "execution_count": 52,
      "outputs": [
        {
          "output_type": "stream",
          "name": "stdout",
          "text": [
            "['arroz', 'abacate', 'alface']\n"
          ]
        }
      ]
    },
    {
      "cell_type": "code",
      "source": [
        "#2\n",
        "def produto(numeros):\n",
        "  resultado = 1\n",
        "  for i in numeros:\n",
        "    resultado *= i\n",
        "  return resultado  \n",
        "\n",
        "number = [3, 4, 6, 88]\n",
        "produto(number)"
      ],
      "metadata": {
        "colab": {
          "base_uri": "https://localhost:8080/"
        },
        "id": "LDIkuiyfaDS0",
        "outputId": "702d96af-c3ec-4fb7-fb23-81aa6e7d3709"
      },
      "execution_count": 66,
      "outputs": [
        {
          "output_type": "execute_result",
          "data": {
            "text/plain": [
              "6336"
            ]
          },
          "metadata": {},
          "execution_count": 66
        }
      ]
    },
    {
      "cell_type": "code",
      "source": [
        "def somatorio(numeros):\n",
        "  soma = 0\n",
        "  for i in numeros:\n",
        "   if i % 2 == 0:\n",
        "    soma += i\n",
        "  return soma \n",
        "  \n"
      ],
      "metadata": {
        "id": "AIYrzhi3hiZU"
      },
      "execution_count": 70,
      "outputs": []
    },
    {
      "cell_type": "code",
      "source": [
        "somatorio(number)"
      ],
      "metadata": {
        "colab": {
          "base_uri": "https://localhost:8080/"
        },
        "id": "xepyZ066h_b7",
        "outputId": "31169d44-1206-4a45-9555-dc28dce88239"
      },
      "execution_count": 72,
      "outputs": [
        {
          "output_type": "execute_result",
          "data": {
            "text/plain": [
              "98"
            ]
          },
          "metadata": {},
          "execution_count": 72
        }
      ]
    },
    {
      "cell_type": "code",
      "source": [
        "#4\n",
        "nomes = ['zequinha', 'anastacia', 'josefina', 'amaralino']\n",
        "\n",
        "def maiorString(nomes): \n",
        "  maior = ''\n",
        "  for u in nomes:\n",
        "   if(len(u) >= len(maior)):\n",
        "    maior = u\n",
        "  return maior\n",
        "maiorString(nomes)"
      ],
      "metadata": {
        "colab": {
          "base_uri": "https://localhost:8080/",
          "height": 35
        },
        "id": "YaJuRXwdj46I",
        "outputId": "864a1880-2349-4dc8-ce3e-18fd70b13844"
      },
      "execution_count": 93,
      "outputs": [
        {
          "output_type": "execute_result",
          "data": {
            "text/plain": [
              "'amaralino'"
            ],
            "application/vnd.google.colaboratory.intrinsic+json": {
              "type": "string"
            }
          },
          "metadata": {},
          "execution_count": 93
        }
      ]
    },
    {
      "cell_type": "code",
      "source": [],
      "metadata": {
        "id": "VI2KfrvjlpXF"
      },
      "execution_count": null,
      "outputs": []
    }
  ]
}